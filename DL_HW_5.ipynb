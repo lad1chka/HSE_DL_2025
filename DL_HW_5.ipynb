{
 "cells": [
  {
   "cell_type": "code",
   "execution_count": 1,
   "metadata": {},
   "outputs": [
    {
     "name": "stderr",
     "output_type": "stream",
     "text": [
      "/home/lad1chka/myenv1/lib/python3.12/site-packages/tqdm/auto.py:21: TqdmWarning: IProgress not found. Please update jupyter and ipywidgets. See https://ipywidgets.readthedocs.io/en/stable/user_install.html\n",
      "  from .autonotebook import tqdm as notebook_tqdm\n"
     ]
    }
   ],
   "source": [
    "import torch.nn as nn\n",
    "import torch.nn.functional as F\n",
    "import numpy as np\n",
    "import matplotlib.pyplot as plt\n",
    "import pandas as pd\n",
    "import torch\n",
    "from transformers import AutoTokenizer\n",
    "from torch.optim import AdamW\n",
    "from tqdm import tqdm\n",
    "from einops import rearrange\n",
    "from mambapy.mamba import MambaBlock, MambaConfig\n",
    "from torch.utils.data import Dataset, DataLoader"
   ]
  },
  {
   "cell_type": "code",
   "execution_count": 2,
   "metadata": {},
   "outputs": [],
   "source": [
    "# Датасет\n",
    "class PoetryDataset(Dataset):\n",
    "    def __init__(self, filepath, tokenizer, max_length=64):\n",
    "        self.df = pd.read_csv(filepath)\n",
    "        self.tokenizer = tokenizer\n",
    "        self.max_length = max_length\n",
    "        \n",
    "        # Фильтрация пустых строк\n",
    "        self.df = self.df.dropna(subset=['text'])\n",
    "        self.texts = self.df['text'].tolist()\n",
    "        \n",
    "    def __len__(self):\n",
    "        return len(self.texts)\n",
    "    \n",
    "    def __getitem__(self, idx):\n",
    "        text = str(self.texts[idx])\n",
    "        encoded = self.tokenizer.encode_plus(\n",
    "            text,\n",
    "            max_length=self.max_length,\n",
    "            padding='max_length',\n",
    "            truncation=True,\n",
    "            return_tensors='pt'\n",
    "        )\n",
    "        return encoded['input_ids'].squeeze(0)\n",
    "  \n",
    "tokenizer = AutoTokenizer.from_pretrained(\"bert-base-multilingual-cased\")\n",
    "tokenizer.add_special_tokens({'pad_token': '[PAD]', 'eos_token': '</s>'})\n",
    "dataset = PoetryDataset(\"/home/lad1chka/russianPoetryWithTheme.csv\", tokenizer)\n",
    "dataloader = DataLoader(dataset, batch_size=8, shuffle=True)"
   ]
  },
  {
   "cell_type": "code",
   "execution_count": 3,
   "metadata": {},
   "outputs": [],
   "source": [
    "# Модель\n",
    "class PoetryMamba(nn.Module):\n",
    "    def __init__(self, vocab_size, d_model=128, n_layers=3):\n",
    "        super().__init__()\n",
    "        self.embedding = nn.Embedding(vocab_size, d_model)\n",
    "        \n",
    "        self.config = MambaConfig(\n",
    "            d_model=d_model,\n",
    "            d_state=8,\n",
    "            d_conv=3,\n",
    "            n_layers=n_layers\n",
    "        )\n",
    "        \n",
    "        self.mamba_layers = nn.ModuleList([MambaBlock(self.config) for _ in range(n_layers)])\n",
    "        \n",
    "        self.attention = nn.MultiheadAttention(d_model, num_heads=4)\n",
    "        self.norm1 = nn.LayerNorm(d_model)\n",
    "        self.norm2 = nn.LayerNorm(d_model)\n",
    "        \n",
    "        self.head = nn.Linear(d_model, vocab_size)\n",
    "        \n",
    "        self.cache = None\n",
    "        self.cache_size = 64\n",
    "        \n",
    "    def forward(self, x):\n",
    "        x = self.embedding(x)\n",
    "        \n",
    "        for layer in self.mamba_layers:\n",
    "            x = layer(x)\n",
    "        \n",
    "        attn_output, _ = self.attention(x, x, x)\n",
    "        x = self.norm1(x + attn_output)\n",
    "        \n",
    "        x = self.norm2(x)\n",
    "        return self.head(x)\n",
    "    \n",
    "    def generate(self, tokenizer, prompt, max_length=50, temperature=0.7, device='cpu'):\n",
    "        self.eval()\n",
    "        input_ids = tokenizer.encode(prompt, return_tensors='pt').to(device)\n",
    "        \n",
    "        with torch.no_grad():\n",
    "            for i in range(max_length):\n",
    "                model_input = input_ids[:, -self.cache_size:] if self.cache_size else input_ids\n",
    "                \n",
    "                logits = self(model_input)\n",
    "                \n",
    "                logits = logits[:, -1, :] / temperature\n",
    "                probs = F.softmax(logits, dim=-1)\n",
    "                next_token = torch.multinomial(probs, num_samples=1)\n",
    "                \n",
    "                input_ids = torch.cat([input_ids, next_token], dim=-1)\n",
    "                \n",
    "                if next_token.item() == tokenizer.eos_token_id:\n",
    "                    break\n",
    "        \n",
    "        return tokenizer.decode(input_ids[0], skip_special_tokens=True)\n"
   ]
  },
  {
   "cell_type": "code",
   "execution_count": 4,
   "metadata": {},
   "outputs": [],
   "source": [
    "# Инициализация \n",
    "device = torch.device(\"cuda\" if torch.cuda.is_available() else \"cpu\")\n",
    "vocab_size = tokenizer.vocab_size + len(tokenizer.added_tokens_encoder)\n",
    "model = PoetryMamba(vocab_size).to(device)\n",
    "optimizer = AdamW(model.parameters(), lr=1e-4, weight_decay=0.01)\n",
    "criterion = nn.CrossEntropyLoss(ignore_index=tokenizer.pad_token_id)"
   ]
  },
  {
   "cell_type": "code",
   "execution_count": 5,
   "metadata": {},
   "outputs": [
    {
     "name": "stderr",
     "output_type": "stream",
     "text": [
      "Epoch 1: 100%|████████████████████████████| 2087/2087 [1:22:01<00:00,  2.36s/it]\n"
     ]
    },
    {
     "name": "stdout",
     "output_type": "stream",
     "text": [
      "Epoch 1, Loss: 6.7632\n",
      "Пример генерации: Белая береза, В лиа. Дляи, - Ошьвги, как га легко сад, Вчеь ветер, В норак шнуло, и мой отрад нам,мая небес других, И вубои\n"
     ]
    },
    {
     "name": "stderr",
     "output_type": "stream",
     "text": [
      "Epoch 2: 100%|████████████████████████████| 2087/2087 [1:20:55<00:00,  2.33s/it]\n"
     ]
    },
    {
     "name": "stdout",
     "output_type": "stream",
     "text": [
      "Epoch 2, Loss: 5.6782\n",
      "Пример генерации: Белая береза, гроза, ведь разклинежов, День в огнее узенья, Благ, снег каждый и ублю И весет, Но в где не встречатьяю,\n"
     ]
    },
    {
     "name": "stderr",
     "output_type": "stream",
     "text": [
      "Epoch 3: 100%|████████████████████████████| 2087/2087 [1:21:07<00:00,  2.33s/it]\n"
     ]
    },
    {
     "name": "stdout",
     "output_type": "stream",
     "text": [
      "Epoch 3, Loss: 5.3073\n",
      "Пример генерации: Белая береза не уж золодный, Стоят в кох. Столем, не с ним весной, Направчки, Муженно, Дружешь, как, - Забысь не чем? -\n"
     ]
    },
    {
     "name": "stderr",
     "output_type": "stream",
     "text": [
      "Epoch 4: 100%|████████████████████████████| 2087/2087 [1:20:52<00:00,  2.33s/it]\n"
     ]
    },
    {
     "name": "stdout",
     "output_type": "stream",
     "text": [
      "Epoch 4, Loss: 5.0912\n",
      "Пример генерации: Белая береза! Но мы прочь, - Как вдали охожу... Я не пропомрем, сопаца нас на вдали, И я я я другу, и в печали, А, что в медвое\n"
     ]
    },
    {
     "name": "stderr",
     "output_type": "stream",
     "text": [
      "Epoch 5: 100%|████████████████████████████| 2087/2087 [1:20:38<00:00,  2.32s/it]\n"
     ]
    },
    {
     "name": "stdout",
     "output_type": "stream",
     "text": [
      "Epoch 5, Loss: 4.9445\n",
      "Пример генерации: Белая береза моя моих, Разнает над ложком, В страстей и грудь, - Ни, голубой, не - то правю, и встаю : « Я внимаю крылья\n"
     ]
    },
    {
     "data": {
      "image/png": "[encoded data removed]",
      "text/plain": [
       "<Figure size 640x480 with 1 Axes>"
      ]
     },
     "metadata": {},
     "output_type": "display_data"
    },
    {
     "name": "stdout",
     "output_type": "stream",
     "text": [
      "Сгенерированный стих:\n",
      "Белая береза подых люблю, Исчет невольно. И я пройду только слезы, И взгляди, когда - то я в сном. Вот! - как ветрени, И они не надо Всею, крас И милой - Так - Все. Я с в не,ю\n",
      "Модель сохранена в poetry_mamba_model.pth\n"
     ]
    }
   ],
   "source": [
    "# Обучение\n",
    "epochs = 5\n",
    "\n",
    "def train(model, dataloader, epochs):\n",
    "    model.train()\n",
    "    losses = []\n",
    "    \n",
    "    for epoch in range(epochs):\n",
    "        epoch_loss = 0\n",
    "        for batch in tqdm(dataloader, desc=f\"Epoch {epoch+1}\"):\n",
    "            input_ids = batch.to(device)\n",
    "            optimizer.zero_grad()\n",
    "            inputs = input_ids[:, :-1]\n",
    "            targets = input_ids[:, 1:]\n",
    "            logits = model(inputs)\n",
    "            loss = criterion(logits.transpose(1, 2), targets)\n",
    "            loss.backward()\n",
    "            optimizer.step()\n",
    "            epoch_loss += loss.item()\n",
    "        \n",
    "        avg_loss = epoch_loss / len(dataloader)\n",
    "        losses.append(avg_loss)\n",
    "        print(f\"Epoch {epoch+1}, Loss: {avg_loss:.4f}\")\n",
    "        \n",
    "        # Тест генерации\n",
    "        sample = model.generate(tokenizer, \"Белая береза\", device=device)\n",
    "        print(f\"Пример генерации: {sample}\")\n",
    "    \n",
    "    return losses\n",
    "\n",
    "loss_history = train(model, dataloader, epochs)\n",
    "\n",
    "# Визуализация\n",
    "plt.plot(loss_history)\n",
    "plt.title('График обучения')\n",
    "plt.xlabel('Эпоха')\n",
    "plt.ylabel('Потери')\n",
    "plt.show()\n",
    "\n",
    "# Сгенерируем что-нибудь\n",
    "generated_poem = model.generate(\n",
    "    tokenizer,\n",
    "    prompt=\"Белая береза\",\n",
    "    max_length=100,\n",
    "    temperature=0.7,\n",
    "    device=device\n",
    ")\n",
    "\n",
    "print(\"Сгенерированный стих:\")\n",
    "print(generated_poem)\n",
    "\n",
    "torch.save(model.state_dict(), \"poetry_mamba_model.pth\")\n",
    "print(\"Модель сохранена в poetry_mamba_model.pth\")"
   ]
  },
  {
   "cell_type": "code",
   "execution_count": null,
   "metadata": {},
   "outputs": [],
   "source": []
  }
 ],
 "metadata": {
  "colab": {
   "provenance": []
  },
  "kernelspec": {
   "display_name": "myenv1",
   "language": "python",
   "name": "myenv1"
  },
  "language_info": {
   "codemirror_mode": {
    "name": "ipython",
    "version": 3
   },
   "file_extension": ".py",
   "mimetype": "text/x-python",
   "name": "python",
   "nbconvert_exporter": "python",
   "pygments_lexer": "ipython3",
   "version": "3.12.3"
  }
 },
 "nbformat": 4,
 "nbformat_minor": 1
}
