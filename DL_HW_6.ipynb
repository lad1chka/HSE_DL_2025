{
 "cells": [
  {
   "cell_type": "code",
   "execution_count": 1,
   "id": "6c7b6cb2",
   "metadata": {},
   "outputs": [
    {
     "name": "stderr",
     "output_type": "stream",
     "text": [
      "/home/lad1chka/myenv1/lib/python3.12/site-packages/tqdm/auto.py:21: TqdmWarning: IProgress not found. Please update jupyter and ipywidgets. See https://ipywidgets.readthedocs.io/en/stable/user_install.html\n",
      "  from .autonotebook import tqdm as notebook_tqdm\n"
     ]
    }
   ],
   "source": [
    "import torch\n",
    "import torch.nn as nn\n",
    "import torch.nn.functional as F\n",
    "import numpy as np\n",
    "import matplotlib.pyplot as plt\n",
    "import pandas as pd\n",
    "from transformers import AutoTokenizer\n",
    "from torch.utils.data import Dataset, DataLoader\n",
    "from einops import rearrange, repeat\n",
    "from tqdm import tqdm"
   ]
  },
  {
   "cell_type": "code",
   "execution_count": 2,
   "id": "4bfcd19c",
   "metadata": {},
   "outputs": [],
   "source": [
    "class xLSTMLayer(nn.Module):\n",
    "    def __init__(self, input_size, hidden_size):\n",
    "        super().__init__()\n",
    "        self.hidden_size = hidden_size        \n",
    "        self.input_linear = nn.Linear(input_size, hidden_size * 4)  # для i, f, o, g        \n",
    "        nn.init.orthogonal_(self.input_linear.weight)\n",
    "        nn.init.zeros_(self.input_linear.bias)\n",
    "        \n",
    "    def forward(self, x, hidden_states):\n",
    "        h_prev, c_prev = hidden_states\n",
    "        gates = self.input_linear(x)\n",
    "        i, f, o, g = gates.chunk(4, dim=-1)        \n",
    "        i = torch.sigmoid(i)\n",
    "        f = torch.sigmoid(f)\n",
    "        o = torch.sigmoid(o)\n",
    "        g = torch.tanh(g)        \n",
    "        c = f * c_prev.unsqueeze(1) + i * g        \n",
    "        h = o * torch.tanh(c)\n",
    "        \n",
    "        return h, (h[:, -1, :], c[:, -1, :])"
   ]
  },
  {
   "cell_type": "code",
   "execution_count": 3,
   "id": "c8429e81",
   "metadata": {},
   "outputs": [],
   "source": [
    "class PoetryxLSTM(nn.Module):\n",
    "    def __init__(self, vocab_size, hidden_size=128, num_layers=2):\n",
    "        super().__init__()\n",
    "        self.embedding = nn.Embedding(vocab_size, hidden_size)\n",
    "        self.layers = nn.ModuleList([\n",
    "            xLSTMLayer(\n",
    "                input_size=hidden_size, \n",
    "                hidden_size=hidden_size\n",
    "            ) for _ in range(num_layers)\n",
    "        ])\n",
    "        self.norm = nn.LayerNorm(hidden_size)\n",
    "        self.head = nn.Linear(hidden_size, vocab_size)\n",
    "        self.hidden_size = hidden_size\n",
    "        self.num_layers = num_layers\n",
    "        \n",
    "    def init_hidden(self, batch_size, device):\n",
    "        return (torch.zeros(batch_size, self.hidden_size).to(device),\n",
    "                torch.zeros(batch_size, self.hidden_size).to(device))\n",
    "        \n",
    "    def forward(self, x, hidden_states=None):\n",
    "        batch_size, seq_len = x.size()\n",
    "        device = x.device\n",
    "        \n",
    "        if hidden_states is None:\n",
    "            hidden_states = [self.init_hidden(batch_size, device) for _ in range(self.num_layers)]\n",
    "        \n",
    "        x = self.embedding(x)\n",
    "        \n",
    "        new_hidden_states = []\n",
    "        for i, layer in enumerate(self.layers):\n",
    "            h_prev, c_prev = hidden_states[i]\n",
    "            x, (h_new, c_new) = layer(x, (h_prev, c_prev))\n",
    "            new_hidden_states.append((h_new, c_new))\n",
    "            \n",
    "        x = self.norm(x)\n",
    "        logits = self.head(x)\n",
    "        \n",
    "        return logits, new_hidden_states\n",
    "    \n",
    "    def generate(self, tokenizer, prompt, max_length=30, temperature=0.7, device='cpu'):\n",
    "        self.eval()\n",
    "        input_ids = tokenizer.encode(prompt, return_tensors='pt').to(device)\n",
    "        hidden = None\n",
    "        \n",
    "        for _ in range(max_length):\n",
    "            with torch.no_grad():\n",
    "                logits, hidden = self(input_ids[:, -1:], hidden)\n",
    "            \n",
    "            logits = logits[:, -1, :] / temperature\n",
    "            probs = F.softmax(logits, dim=-1)\n",
    "            next_token = torch.multinomial(probs, num_samples=1)\n",
    "            \n",
    "            input_ids = torch.cat([input_ids, next_token], dim=-1)\n",
    "            \n",
    "            if next_token.item() == tokenizer.eos_token_id:\n",
    "                break\n",
    "        \n",
    "        return tokenizer.decode(input_ids[0], skip_special_tokens=True)"
   ]
  },
  {
   "cell_type": "code",
   "execution_count": 4,
   "id": "4075089c",
   "metadata": {},
   "outputs": [],
   "source": [
    "class PoetryDataset(Dataset):\n",
    "    def __init__(self, filepath, tokenizer, max_length=64):\n",
    "        self.df = pd.read_csv(filepath)\n",
    "        self.tokenizer = tokenizer\n",
    "        self.max_length = max_length\n",
    "        self.df = self.df.dropna(subset=['text'])\n",
    "        self.texts = self.df['text'].tolist()\n",
    "    \n",
    "    def __len__(self):\n",
    "        return len(self.texts)\n",
    "    \n",
    "    def __getitem__(self, idx):\n",
    "        text = str(self.texts[idx])\n",
    "        encoded = self.tokenizer.encode_plus(\n",
    "            text,\n",
    "            max_length=self.max_length,\n",
    "            padding='max_length',\n",
    "            truncation=True,\n",
    "            return_tensors='pt'\n",
    "        )\n",
    "        return encoded['input_ids'].squeeze(0)\n",
    "\n",
    "tokenizer = AutoTokenizer.from_pretrained(\"bert-base-multilingual-cased\")\n",
    "tokenizer.add_special_tokens({'pad_token': '[PAD]', 'eos_token': '</s>'})\n",
    "\n",
    "# Загрузка данных\n",
    "dataset = PoetryDataset(\"/home/lad1chka/russianPoetryWithTheme.csv\", tokenizer)\n",
    "dataloader = DataLoader(dataset, batch_size=32, shuffle=True)"
   ]
  },
  {
   "cell_type": "code",
   "execution_count": 5,
   "id": "7ca35c1c",
   "metadata": {},
   "outputs": [
    {
     "name": "stderr",
     "output_type": "stream",
     "text": [
      "Epoch 1: 100%|████████████████████████████████| 522/522 [28:47<00:00,  3.31s/it]\n"
     ]
    },
    {
     "name": "stdout",
     "output_type": "stream",
     "text": [
      "Epoch 1, Loss: 8.3141\n",
      "Пример генерации: Белая береза. С..... И. Р В. За. в з. И, В и вм о не ки, се\n"
     ]
    },
    {
     "name": "stderr",
     "output_type": "stream",
     "text": [
      "Epoch 2: 100%|████████████████████████████████| 522/522 [28:17<00:00,  3.25s/it]\n"
     ]
    },
    {
     "name": "stdout",
     "output_type": "stream",
     "text": [
      "Epoch 2, Loss: 6.3885\n",
      "Пример генерации: Белая береза весе. - Б Я востся - во, я, не вту.. И не в бтя, на гл И\n"
     ]
    },
    {
     "name": "stderr",
     "output_type": "stream",
     "text": [
      "Epoch 3: 100%|████████████████████████████████| 522/522 [28:22<00:00,  3.26s/it]\n"
     ]
    },
    {
     "name": "stdout",
     "output_type": "stream",
     "text": [
      "Epoch 3, Loss: 6.0477\n",
      "Пример генерации: Белая березачью и д, у. Все. В. Не поэт и ст цвет воз свидй стрной - и сл увык\n"
     ]
    },
    {
     "name": "stderr",
     "output_type": "stream",
     "text": [
      "Epoch 4: 100%|████████████████████████████████| 522/522 [28:19<00:00,  3.26s/it]\n"
     ]
    },
    {
     "name": "stdout",
     "output_type": "stream",
     "text": [
      "Epoch 4, Loss: 5.7812\n",
      "Пример генерации: Белая береза. Пчий... И Он м, в у, с по умс в перкаллаья!ки\n"
     ]
    },
    {
     "name": "stderr",
     "output_type": "stream",
     "text": [
      "Epoch 5: 100%|████████████████████████████████| 522/522 [29:07<00:00,  3.35s/it]\n"
     ]
    },
    {
     "name": "stdout",
     "output_type": "stream",
     "text": [
      "Epoch 5, Loss: 5.5831\n",
      "Пример генерации: Белая береза нож, м с м на ка собе мне,! Не во мне со жить, на в во не тре.. Н\n"
     ]
    }
   ],
   "source": [
    "device = torch.device(\"cuda\" if torch.cuda.is_available() else \"cpu\")\n",
    "vocab_size = tokenizer.vocab_size + len(tokenizer.added_tokens_encoder)\n",
    "model = PoetryxLSTM(vocab_size).to(device)\n",
    "optimizer = torch.optim.AdamW(model.parameters(), lr=1e-4)\n",
    "criterion = nn.CrossEntropyLoss(ignore_index=tokenizer.pad_token_id)\n",
    "epochs = 5\n",
    "\n",
    "def train(model, dataloader, epochs):\n",
    "    model.train()\n",
    "    losses = []\n",
    "    \n",
    "    for epoch in range(epochs):\n",
    "        epoch_loss = 0\n",
    "        hidden = None\n",
    "        \n",
    "        for batch in tqdm(dataloader, desc=f\"Epoch {epoch+1}\"):\n",
    "            input_ids = batch.to(device)\n",
    "            batch_size = input_ids.size(0)\n",
    "            hidden = [model.init_hidden(batch_size, device) for _ in range(model.num_layers)]\n",
    "            optimizer.zero_grad()\n",
    "            inputs = input_ids[:, :-1]\n",
    "            targets = input_ids[:, 1:]\n",
    "            logits, hidden = model(inputs, hidden)\n",
    "            loss = criterion(\n",
    "                logits.view(-1, logits.size(-1)), \n",
    "                targets.contiguous().view(-1)\n",
    "            )\n",
    "            loss.backward()\n",
    "            optimizer.step()\n",
    "            epoch_loss += loss.item()\n",
    "        \n",
    "        avg_loss = epoch_loss / len(dataloader)\n",
    "        losses.append(avg_loss)\n",
    "        print(f\"Epoch {epoch+1}, Loss: {avg_loss:.4f}\")\n",
    "        \n",
    "        # Пример генерации\n",
    "        sample = model.generate(tokenizer, \"Белая береза\", device=device)\n",
    "        print(f\"Пример генерации: {sample}\")\n",
    "    \n",
    "    return losses\n",
    "\n",
    "loss_history = train(model, dataloader, epochs)"
   ]
  }
 ],
 "metadata": {
  "kernelspec": {
   "display_name": "myenv1",
   "language": "python",
   "name": "myenv1"
  },
  "language_info": {
   "codemirror_mode": {
    "name": "ipython",
    "version": 3
   },
   "file_extension": ".py",
   "mimetype": "text/x-python",
   "name": "python",
   "nbconvert_exporter": "python",
   "pygments_lexer": "ipython3",
   "version": "3.12.3"
  }
 },
 "nbformat": 4,
 "nbformat_minor": 5
}
